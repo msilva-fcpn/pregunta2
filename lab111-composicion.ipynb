{
 "cells": [
  {
   "cell_type": "markdown",
   "metadata": {},
   "source": [
    "Composicion y descomposicion de numeros"
   ]
  },
  {
   "cell_type": "code",
   "execution_count": 1,
   "metadata": {},
   "outputs": [],
   "source": [
    "d1,d2,d3=1,2,3"
   ]
  },
  {
   "cell_type": "code",
   "execution_count": 3,
   "metadata": {},
   "outputs": [
    {
     "name": "stdout",
     "output_type": "stream",
     "text": [
      "7\n",
      "6\n",
      "5\n",
      "765\n"
     ]
    }
   ],
   "source": [
    "n=0\n",
    "for i in range(0,3):\n",
    "    d=int(input())\n",
    "    n=n*10+d\n",
    "print(n)"
   ]
  },
  {
   "cell_type": "markdown",
   "metadata": {},
   "source": [
    "1,2,3\n",
    "1 10 100\n",
    "1+20+300=321\n",
    "321\n",
    "\n",
    "n=0\n",
    "e=1\n",
    "\n",
    "n=d*e+n\n",
    "e=e*10"
   ]
  },
  {
   "cell_type": "code",
   "execution_count": 4,
   "metadata": {},
   "outputs": [
    {
     "name": "stdout",
     "output_type": "stream",
     "text": [
      "1\n",
      "2\n",
      "3\n",
      "321\n"
     ]
    }
   ],
   "source": [
    "n=0\n",
    "e=1\n",
    "for i in range(0,3):\n",
    "    d=int(input())\n",
    "    n=d*e+n\n",
    "    e=e*10\n",
    "print(n)"
   ]
  },
  {
   "cell_type": "markdown",
   "metadata": {},
   "source": [
    "Longitudes"
   ]
  },
  {
   "cell_type": "code",
   "execution_count": 9,
   "metadata": {},
   "outputs": [
    {
     "name": "stdout",
     "output_type": "stream",
     "text": [
      "6\n",
      "c e\n"
     ]
    }
   ],
   "source": [
    "cadena=\"cadena\"\n",
    "print(len(cadena))\n",
    "print(cadena[0], cadena[3])"
   ]
  },
  {
   "cell_type": "code",
   "execution_count": 13,
   "metadata": {},
   "outputs": [
    {
     "name": "stdout",
     "output_type": "stream",
     "text": [
      "9\n"
     ]
    }
   ],
   "source": [
    "import math \n",
    "n=234235132\n",
    "print(int(math.log10(n))+1)"
   ]
  },
  {
   "cell_type": "code",
   "execution_count": 14,
   "metadata": {
    "scrolled": true
   },
   "outputs": [
    {
     "name": "stdout",
     "output_type": "stream",
     "text": [
      "c\n",
      "a\n",
      "d\n",
      "e\n",
      "n\n",
      "a\n"
     ]
    }
   ],
   "source": [
    "cadena=\"cadena\"\n",
    "longitud = len(cadena)\n",
    "for i in range(0,longitud):\n",
    "    print(cadena[i])\n"
   ]
  },
  {
   "cell_type": "code",
   "execution_count": 51,
   "metadata": {},
   "outputs": [
    {
     "data": {
      "text/plain": [
       "25"
      ]
     },
     "execution_count": 51,
     "metadata": {},
     "output_type": "execute_result"
    }
   ],
   "source": [
    "n=234235132\n",
    "\n",
    "ncadena=str(n)\n",
    "longitud=int(math.log10(n))+1\n",
    "s=0\n",
    "for i in range(longitud):\n",
    "    s=s+int(ncadena[i])\n",
    "s\n",
    "n=s"
   ]
  },
  {
   "cell_type": "code",
   "execution_count": 18,
   "metadata": {},
   "outputs": [
    {
     "data": {
      "text/plain": [
       "(35, 2)"
      ]
     },
     "execution_count": 18,
     "metadata": {},
     "output_type": "execute_result"
    }
   ],
   "source": [
    "n=235\n",
    "d=int(235/100)\n",
    "n=235-d*100\n"
   ]
  },
  {
   "cell_type": "code",
   "execution_count": 20,
   "metadata": {},
   "outputs": [
    {
     "data": {
      "text/plain": [
       "(5, 3)"
      ]
     },
     "execution_count": 20,
     "metadata": {},
     "output_type": "execute_result"
    }
   ],
   "source": [
    "n=35\n",
    "d=int(35/10)\n",
    "n=35-d*10\n",
    "n,d"
   ]
  },
  {
   "cell_type": "code",
   "execution_count": 21,
   "metadata": {},
   "outputs": [
    {
     "data": {
      "text/plain": [
       "(0, 5)"
      ]
     },
     "execution_count": 21,
     "metadata": {},
     "output_type": "execute_result"
    }
   ],
   "source": [
    "n=5\n",
    "d=int(5/1)\n",
    "n=5-d*1\n",
    "n,d"
   ]
  },
  {
   "cell_type": "code",
   "execution_count": 23,
   "metadata": {},
   "outputs": [
    {
     "data": {
      "text/plain": [
       "3"
      ]
     },
     "execution_count": 23,
     "metadata": {},
     "output_type": "execute_result"
    }
   ],
   "source": [
    "longitud=int(math.log10(235))+1\n",
    "longitud"
   ]
  },
  {
   "cell_type": "code",
   "execution_count": 27,
   "metadata": {},
   "outputs": [
    {
     "data": {
      "text/plain": [
       "100"
      ]
     },
     "execution_count": 27,
     "metadata": {},
     "output_type": "execute_result"
    }
   ],
   "source": [
    "e=10**(longitud-1)\n",
    "e"
   ]
  },
  {
   "cell_type": "code",
   "execution_count": 29,
   "metadata": {},
   "outputs": [
    {
     "name": "stdout",
     "output_type": "stream",
     "text": [
      "6\n",
      "5\n",
      "3\n",
      "4\n"
     ]
    }
   ],
   "source": [
    "n=6534\n",
    "longitud=int(math.log10(n))+1\n",
    "e=10**(longitud-1)\n",
    "for i in range(0, longitud):\n",
    "    d=int(n/e)\n",
    "    n=n-d*e\n",
    "    e=e/10\n",
    "    print(d)\n",
    "    "
   ]
  },
  {
   "cell_type": "code",
   "execution_count": 35,
   "metadata": {},
   "outputs": [
    {
     "name": "stdout",
     "output_type": "stream",
     "text": [
      "653\n",
      "4\n",
      "65\n"
     ]
    },
    {
     "data": {
      "text/plain": [
       "6"
      ]
     },
     "execution_count": 35,
     "metadata": {},
     "output_type": "execute_result"
    }
   ],
   "source": [
    "n=6534\n",
    "m=n\n",
    "n=int(n/10)\n",
    "print(n)\n",
    "valor=m-n*10\n",
    "print(valor)\n",
    "n=int(n/10)\n",
    "print(n)\n",
    "n=int(n/10)\n",
    "n"
   ]
  },
  {
   "cell_type": "code",
   "execution_count": 49,
   "metadata": {},
   "outputs": [
    {
     "data": {
      "text/plain": [
       "9"
      ]
     },
     "execution_count": 49,
     "metadata": {},
     "output_type": "execute_result"
    }
   ],
   "source": [
    "n=4563\n",
    "longitud=int(math.log10(n))+1\n",
    "while (longitud>1):\n",
    "    e=10**(longitud-1)\n",
    "    s=0\n",
    "    for i in range(0, longitud):\n",
    "        d=int(n/e)\n",
    "        n=n-d*e\n",
    "        e=e/10\n",
    "        s=s+d\n",
    "    n=s\n",
    "    longitud=int(math.log10(n))+1\n",
    "n\n"
   ]
  },
  {
   "cell_type": "code",
   "execution_count": null,
   "metadata": {},
   "outputs": [],
   "source": []
  },
  {
   "cell_type": "code",
   "execution_count": null,
   "metadata": {},
   "outputs": [],
   "source": []
  }
 ],
 "metadata": {
  "kernelspec": {
   "display_name": "Python 3",
   "language": "python",
   "name": "python3"
  },
  "language_info": {
   "codemirror_mode": {
    "name": "ipython",
    "version": 3
   },
   "file_extension": ".py",
   "mimetype": "text/x-python",
   "name": "python",
   "nbconvert_exporter": "python",
   "pygments_lexer": "ipython3",
   "version": "3.8.3"
  }
 },
 "nbformat": 4,
 "nbformat_minor": 4
}
